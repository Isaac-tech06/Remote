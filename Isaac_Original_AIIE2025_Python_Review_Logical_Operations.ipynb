{
  "nbformat": 4,
  "nbformat_minor": 0,
  "metadata": {
    "colab": {
      "provenance": [],
      "include_colab_link": true
    },
    "kernelspec": {
      "name": "python3",
      "display_name": "Python 3"
    },
    "language_info": {
      "name": "python"
    }
  },
  "cells": [
    {
      "cell_type": "markdown",
      "metadata": {
        "id": "view-in-github",
        "colab_type": "text"
      },
      "source": [
        "<a href=\"https://colab.research.google.com/github/Isaac-tech06/Remote/blob/main/Isaac_Original_AIIE2025_Python_Review_Logical_Operations.ipynb\" target=\"_parent\"><img src=\"https://colab.research.google.com/assets/colab-badge.svg\" alt=\"Open In Colab\"/></a>"
      ]
    },
    {
      "cell_type": "markdown",
      "source": [
        "#**AIIE 2025 Python Review**\n",
        "  **Dr. Christelle Scharff | Dr. Kaleema**\n"
      ],
      "metadata": {
        "id": "TyQexZXvoPn_"
      }
    },
    {
      "cell_type": "markdown",
      "source": [
        "In this notebook we will learn about Logical operations of Python."
      ],
      "metadata": {
        "id": "UiKMSm0goXYw"
      }
    },
    {
      "cell_type": "markdown",
      "metadata": {
        "id": "ou0xoVsAfnHJ"
      },
      "source": [
        "## Logical Operations\n",
        "Python provides four sets of logical operations.\n",
        "Following is the list, which we will be discussing in detail.\n"
      ]
    },
    {
      "cell_type": "markdown",
      "metadata": {
        "id": "c9jptk3gh2uD"
      },
      "source": [
        "<table>\n",
        "<tr>\n",
        "    <th>Operator</th>\n",
        "    <th> Description</th>\n",
        "</tr>\n",
        "\n",
        "<tr>\n",
        "    <td>Identical</td>\n",
        "    <td> 'is', 'is not'</td>\n",
        "</tr>\n",
        "\n",
        "<tr>\n",
        "    <td>Comparision </td>\n",
        "    <td> ==, !=, <, >, <=, >= </td>\n",
        "</tr>\n",
        "<tr>\n",
        "    <td>Membership </td>\n",
        "    <td> 'in'  , 'not in' </td>\n",
        "</tr>\n",
        "<tr>\n",
        "    <td>Logical</td>\n",
        "    <td> 'and', 'or' , 'not' </td>\n",
        "</tr>\n",
        " </table>"
      ]
    },
    {
      "cell_type": "markdown",
      "metadata": {
        "id": "29-paMq6im1-"
      },
      "source": [
        "### Identical Operators"
      ]
    },
    {
      "cell_type": "code",
      "metadata": {
        "id": "9E6YWNfSff9S"
      },
      "source": [
        "# Creating two lists\n",
        "a = [\"Retention\", 3, None]\n",
        "b = [\"Retention\", 3, None]"
      ],
      "execution_count": null,
      "outputs": []
    },
    {
      "cell_type": "code",
      "metadata": {
        "colab": {
          "base_uri": "https://localhost:8080/"
        },
        "id": "9NnEz1pJjuHX",
        "outputId": "9939c7d1-582f-42e3-c953-7a6289f3236d"
      },
      "source": [
        "#Checking if two lists are same\n",
        "a is b"
      ],
      "execution_count": null,
      "outputs": [
        {
          "output_type": "execute_result",
          "data": {
            "text/plain": [
              "False"
            ]
          },
          "metadata": {},
          "execution_count": 2
        }
      ]
    },
    {
      "cell_type": "code",
      "metadata": {
        "id": "LifnwixjlMB8"
      },
      "source": [
        "#Reassigning the object b to a\n",
        "b = a"
      ],
      "execution_count": null,
      "outputs": []
    },
    {
      "cell_type": "code",
      "metadata": {
        "colab": {
          "base_uri": "https://localhost:8080/"
        },
        "id": "M2MQYctnle7_",
        "outputId": "7d3ffe36-fa04-4143-89ca-e8686938ff7a"
      },
      "source": [
        "#Checking if two lists are same\n",
        "a is b"
      ],
      "execution_count": null,
      "outputs": [
        {
          "output_type": "execute_result",
          "data": {
            "text/plain": [
              "True"
            ]
          },
          "metadata": {},
          "execution_count": 4
        }
      ]
    },
    {
      "cell_type": "markdown",
      "metadata": {
        "id": "XN1b6rdiFekJ"
      },
      "source": [
        "## Comparion Operators\n",
        "\n",
        "\n",
        "*   '==' Equal\n",
        "*   '!=' Not equal\n",
        "*   '<' Less than\n",
        "*   '>' Greater than\n",
        "*   '<=' Less than or equal\n",
        "*   '>=' Greater than or equal\n",
        "\n",
        "\n",
        "\n",
        "\n",
        "\n",
        "\n"
      ]
    },
    {
      "cell_type": "markdown",
      "metadata": {
        "id": "gwVhmN-ERhwL"
      },
      "source": [
        "#### Equal"
      ]
    },
    {
      "cell_type": "code",
      "metadata": {
        "id": "4glEdMfxKR3F",
        "colab": {
          "base_uri": "https://localhost:8080/"
        },
        "outputId": "56e2bdd1-9958-484c-f062-b306ae729ca9"
      },
      "source": [
        "2 == 2"
      ],
      "execution_count": null,
      "outputs": [
        {
          "output_type": "execute_result",
          "data": {
            "text/plain": [
              "True"
            ]
          },
          "metadata": {},
          "execution_count": 5
        }
      ]
    },
    {
      "cell_type": "code",
      "metadata": {
        "id": "OOP4taFCRluW",
        "colab": {
          "base_uri": "https://localhost:8080/"
        },
        "outputId": "d2499d66-53d9-4431-8d77-a3f4c99eefd0"
      },
      "source": [
        "1 == 0"
      ],
      "execution_count": null,
      "outputs": [
        {
          "output_type": "execute_result",
          "data": {
            "text/plain": [
              "False"
            ]
          },
          "metadata": {},
          "execution_count": 6
        }
      ]
    },
    {
      "cell_type": "markdown",
      "metadata": {
        "id": "15g-DB7cRppW"
      },
      "source": [
        "#### Not Equal"
      ]
    },
    {
      "cell_type": "code",
      "metadata": {
        "id": "ujZo7hvtRu8R",
        "colab": {
          "base_uri": "https://localhost:8080/"
        },
        "outputId": "9ca0e393-856c-4625-9345-7bc864fd4291"
      },
      "source": [
        "2 != 1"
      ],
      "execution_count": null,
      "outputs": [
        {
          "output_type": "execute_result",
          "data": {
            "text/plain": [
              "True"
            ]
          },
          "metadata": {},
          "execution_count": 7
        }
      ]
    },
    {
      "cell_type": "code",
      "metadata": {
        "id": "oY6XucsqRypT",
        "colab": {
          "base_uri": "https://localhost:8080/"
        },
        "outputId": "3bcfb402-4e8f-45b8-c2ac-8df0e13efef1"
      },
      "source": [
        "3 != 3"
      ],
      "execution_count": null,
      "outputs": [
        {
          "output_type": "execute_result",
          "data": {
            "text/plain": [
              "False"
            ]
          },
          "metadata": {},
          "execution_count": 8
        }
      ]
    },
    {
      "cell_type": "markdown",
      "metadata": {
        "id": "V-bqsnSjR5I9"
      },
      "source": [
        "#### Greater Than"
      ]
    },
    {
      "cell_type": "code",
      "metadata": {
        "id": "8U0Ea3pDR-V4",
        "colab": {
          "base_uri": "https://localhost:8080/"
        },
        "outputId": "9a1e61ce-f5a9-4fc7-d84c-e826eb1b5202"
      },
      "source": [
        "3 > 2"
      ],
      "execution_count": null,
      "outputs": [
        {
          "output_type": "execute_result",
          "data": {
            "text/plain": [
              "True"
            ]
          },
          "metadata": {},
          "execution_count": 9
        }
      ]
    },
    {
      "cell_type": "code",
      "metadata": {
        "id": "zqGsnHRpSGEV",
        "colab": {
          "base_uri": "https://localhost:8080/"
        },
        "outputId": "0a2b960c-95d1-490e-9e26-9fdd72c8857f"
      },
      "source": [
        "3 > 4"
      ],
      "execution_count": null,
      "outputs": [
        {
          "output_type": "execute_result",
          "data": {
            "text/plain": [
              "False"
            ]
          },
          "metadata": {},
          "execution_count": 10
        }
      ]
    },
    {
      "cell_type": "markdown",
      "metadata": {
        "id": "eYLwjVTCSKEf"
      },
      "source": [
        "#### Less Than"
      ]
    },
    {
      "cell_type": "code",
      "metadata": {
        "id": "hsd24PS8SPTp",
        "colab": {
          "base_uri": "https://localhost:8080/"
        },
        "outputId": "7b9f1869-ce00-4c28-ee05-9d09507577f8"
      },
      "source": [
        "100 < 200"
      ],
      "execution_count": null,
      "outputs": [
        {
          "output_type": "execute_result",
          "data": {
            "text/plain": [
              "True"
            ]
          },
          "metadata": {},
          "execution_count": 11
        }
      ]
    },
    {
      "cell_type": "code",
      "metadata": {
        "id": "gyvveJm6SSTt",
        "colab": {
          "base_uri": "https://localhost:8080/"
        },
        "outputId": "f96965d1-7bd3-4353-c7f7-2bcd147f0fa9"
      },
      "source": [
        "150 < 100"
      ],
      "execution_count": null,
      "outputs": [
        {
          "output_type": "execute_result",
          "data": {
            "text/plain": [
              "False"
            ]
          },
          "metadata": {},
          "execution_count": 12
        }
      ]
    },
    {
      "cell_type": "markdown",
      "metadata": {
        "id": "Lj24inXuSW85"
      },
      "source": [
        "#### Greater Than or Equal"
      ]
    },
    {
      "cell_type": "code",
      "metadata": {
        "colab": {
          "base_uri": "https://localhost:8080/"
        },
        "id": "EOtfp-oR07BC",
        "outputId": "9ef1544d-42cb-4454-ef1a-0a81cf6ab831"
      },
      "source": [
        "10 >= 8"
      ],
      "execution_count": null,
      "outputs": [
        {
          "output_type": "execute_result",
          "data": {
            "text/plain": [
              "True"
            ]
          },
          "metadata": {},
          "execution_count": 13
        }
      ]
    },
    {
      "cell_type": "code",
      "metadata": {
        "colab": {
          "base_uri": "https://localhost:8080/"
        },
        "id": "XvCsbAGr1Adb",
        "outputId": "02a7eb36-bb6d-4d58-bea6-a20af17de585"
      },
      "source": [
        "10 >= 5"
      ],
      "execution_count": null,
      "outputs": [
        {
          "output_type": "execute_result",
          "data": {
            "text/plain": [
              "True"
            ]
          },
          "metadata": {},
          "execution_count": 14
        }
      ]
    },
    {
      "cell_type": "markdown",
      "metadata": {
        "id": "eDFLMEWL1GXX"
      },
      "source": [
        "#### Less Than or Equal"
      ]
    },
    {
      "cell_type": "code",
      "metadata": {
        "colab": {
          "base_uri": "https://localhost:8080/"
        },
        "id": "YdO85PyL1FGZ",
        "outputId": "9b6bbde6-f303-417a-f02f-fa4f405bac1a"
      },
      "source": [
        "200 <= 200"
      ],
      "execution_count": null,
      "outputs": [
        {
          "output_type": "execute_result",
          "data": {
            "text/plain": [
              "True"
            ]
          },
          "metadata": {},
          "execution_count": 15
        }
      ]
    },
    {
      "cell_type": "code",
      "metadata": {
        "colab": {
          "base_uri": "https://localhost:8080/"
        },
        "id": "wBMp402w1Oaa",
        "outputId": "b44733db-5ef7-4196-c387-f605eae12341"
      },
      "source": [
        "198 <= 500"
      ],
      "execution_count": null,
      "outputs": [
        {
          "output_type": "execute_result",
          "data": {
            "text/plain": [
              "True"
            ]
          },
          "metadata": {},
          "execution_count": 16
        }
      ]
    },
    {
      "cell_type": "markdown",
      "metadata": {
        "id": "6YS69ySIWyR9"
      },
      "source": [
        "## Membership Operators\n",
        "\n",
        "*   **'in'**\n",
        "*   **'not in'**"
      ]
    },
    {
      "cell_type": "code",
      "metadata": {
        "id": "cRQEoq9sXZrt"
      },
      "source": [
        "p = (\"Apple\", \"Banana\", \"Orange\")"
      ],
      "execution_count": null,
      "outputs": []
    },
    {
      "cell_type": "code",
      "metadata": {
        "colab": {
          "base_uri": "https://localhost:8080/"
        },
        "id": "qKvMCNr2Xnbg",
        "outputId": "360be692-4276-4680-a025-67cc3d2188ce"
      },
      "source": [
        "\"Orange\" in p"
      ],
      "execution_count": null,
      "outputs": [
        {
          "output_type": "execute_result",
          "data": {
            "text/plain": [
              "True"
            ]
          },
          "metadata": {},
          "execution_count": 18
        }
      ]
    },
    {
      "cell_type": "code",
      "metadata": {
        "colab": {
          "base_uri": "https://localhost:8080/"
        },
        "id": "gZ04oXNLYffp",
        "outputId": "295e099b-c2f5-4699-d8b3-405c03527292"
      },
      "source": [
        "\"Apple\" not in p"
      ],
      "execution_count": null,
      "outputs": [
        {
          "output_type": "execute_result",
          "data": {
            "text/plain": [
              "False"
            ]
          },
          "metadata": {},
          "execution_count": 19
        }
      ]
    },
    {
      "cell_type": "markdown",
      "metadata": {
        "id": "lklFTYQ9l5uc"
      },
      "source": [
        "## Logical Operators\n",
        "\n",
        "*   **'and'**\n",
        "*   **'or'**"
      ]
    },
    {
      "cell_type": "code",
      "metadata": {
        "colab": {
          "base_uri": "https://localhost:8080/"
        },
        "id": "JaNgPrDGmHt9",
        "outputId": "a9f2df0f-ef18-4841-96cf-b5db3abab964"
      },
      "source": [
        "#The and is used to make sure two checks have to be true in order for the total check to be true.\n",
        "1<2 and 2<3"
      ],
      "execution_count": null,
      "outputs": [
        {
          "output_type": "execute_result",
          "data": {
            "text/plain": [
              "True"
            ]
          },
          "metadata": {},
          "execution_count": 20
        }
      ]
    },
    {
      "cell_type": "code",
      "metadata": {
        "colab": {
          "base_uri": "https://localhost:8080/"
        },
        "id": "3isUdtS-qiCy",
        "outputId": "b8f5eca7-7967-463e-f72a-f1e7b65564c7"
      },
      "source": [
        "1<2 and 1<3"
      ],
      "execution_count": null,
      "outputs": [
        {
          "output_type": "execute_result",
          "data": {
            "text/plain": [
              "True"
            ]
          },
          "metadata": {
            "tags": []
          },
          "execution_count": 5
        }
      ]
    },
    {
      "cell_type": "code",
      "metadata": {
        "colab": {
          "base_uri": "https://localhost:8080/"
        },
        "id": "6cL6E72NqlY8",
        "outputId": "3f39e527-8a8e-4d4c-92a3-7e8292d6332b"
      },
      "source": [
        "2<4 and 2>3"
      ],
      "execution_count": null,
      "outputs": [
        {
          "output_type": "execute_result",
          "data": {
            "text/plain": [
              "False"
            ]
          },
          "metadata": {
            "tags": []
          },
          "execution_count": 6
        }
      ]
    },
    {
      "cell_type": "code",
      "metadata": {
        "colab": {
          "base_uri": "https://localhost:8080/"
        },
        "id": "CxygD6mFrK3O",
        "outputId": "b340a7ad-3f29-4e2e-97f0-b8c22b9735ed"
      },
      "source": [
        "# We can also use or to write comparisons in Python\n",
        "1==2 or 2<3"
      ],
      "execution_count": null,
      "outputs": [
        {
          "output_type": "execute_result",
          "data": {
            "text/plain": [
              "True"
            ]
          },
          "metadata": {
            "tags": []
          },
          "execution_count": 7
        }
      ]
    },
    {
      "cell_type": "code",
      "metadata": {
        "colab": {
          "base_uri": "https://localhost:8080/"
        },
        "id": "fYM1KN6srVu3",
        "outputId": "e0629060-bbc1-4f9c-91cd-58e9e28f48ed"
      },
      "source": [
        "1==1 or 100==1"
      ],
      "execution_count": null,
      "outputs": [
        {
          "output_type": "execute_result",
          "data": {
            "text/plain": [
              "True"
            ]
          },
          "metadata": {
            "tags": []
          },
          "execution_count": 8
        }
      ]
    }
  ]
}